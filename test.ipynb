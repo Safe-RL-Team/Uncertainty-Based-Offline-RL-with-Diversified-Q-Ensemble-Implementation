{
 "cells": [
  {
   "attachments": {},
   "cell_type": "markdown",
   "metadata": {},
   "source": [
    "# Testing of the EDAC implementation, plus evaluation and visualization"
   ]
  },
  {
   "attachments": {},
   "cell_type": "markdown",
   "metadata": {},
   "source": [
    "## Setup"
   ]
  },
  {
   "cell_type": "code",
   "execution_count": null,
   "metadata": {},
   "outputs": [],
   "source": [
    "from edac import train, TrainConfig\n",
    "import numpy as np\n",
    "from matplotlib import pyplot as plt\n",
    "from matplotlib.animation import FuncAnimation\n",
    "from IPython import display\n",
    "import torch\n",
    "import pyrallis\n",
    "import gym\n",
    "from edac import Actor"
   ]
  },
  {
   "cell_type": "code",
   "execution_count": null,
   "metadata": {},
   "outputs": [],
   "source": [
    "# !wandb offline"
   ]
  },
  {
   "cell_type": "code",
   "execution_count": null,
   "metadata": {},
   "outputs": [],
   "source": [
    "def animate_actor(video):\n",
    "    # plot\n",
    "    fig = plt.figure()\n",
    "    canvas = plt.imshow(video[0])\n",
    "    plt.axis('off')\n",
    "    display.display(display.HTML(FuncAnimation(fig, lambda i: canvas.set_data(video[i]), frames=different_frames, interval=50).to_html5_video()))\n",
    "    plt.close()"
   ]
  },
  {
   "attachments": {},
   "cell_type": "markdown",
   "metadata": {},
   "source": [
    "## Training"
   ]
  },
  {
   "cell_type": "code",
   "execution_count": null,
   "metadata": {},
   "outputs": [],
   "source": [
    "# train(TrainConfig(), animate_actor)"
   ]
  },
  {
   "attachments": {},
   "cell_type": "markdown",
   "metadata": {},
   "source": [
    "## Load a model"
   ]
  },
  {
   "cell_type": "code",
   "execution_count": null,
   "metadata": {},
   "outputs": [],
   "source": [
    "from pathlib import Path\n",
    "newest_dir = max(Path('ckp').iterdir())\n",
    "print(newest_dir)\n",
    "folder = 'ckp/edac-halfcheetah-full-replay-230319-031314'\n",
    "# folder = newest_dir\n",
    "pt_file = f'{folder}/actor-final.pt'\n",
    "config_file = f'{folder}/config.yaml'\n",
    "model_data = torch.load(pt_file)\n",
    "# model_data = torch.load(f'ckp/edac-halfcheetah-full-replay-230318-212450/edac-430.pt')['actor']\n",
    "config = pyrallis.load(TrainConfig, open(config_file))"
   ]
  },
  {
   "cell_type": "code",
   "execution_count": null,
   "metadata": {},
   "outputs": [],
   "source": [
    "env = gym.make(config.env)\n",
    "state_dim = env.observation_space.shape[0]\n",
    "action_dim = env.action_space.shape[0]\n",
    "# Could do: seed the env"
   ]
  },
  {
   "cell_type": "code",
   "execution_count": null,
   "metadata": {},
   "outputs": [],
   "source": [
    "actor = Actor([state_dim, 256, 256, action_dim], max_action=env.action_space.high[0])\n",
    "actor.load_state_dict(model_data)"
   ]
  },
  {
   "cell_type": "code",
   "execution_count": null,
   "metadata": {},
   "outputs": [],
   "source": [
    "with torch.no_grad():\n",
    "    state = env.reset()\n",
    "    done = False\n",
    "    rewards = []\n",
    "    video = []\n",
    "    while not done:\n",
    "        action, _ = actor(torch.tensor(state, dtype=torch.float32))\n",
    "        state, reward, done, _ = env.step(action.numpy())\n",
    "        rewards += reward,\n",
    "        video.append(env.render(mode='rgb_array'))"
   ]
  },
  {
   "cell_type": "code",
   "execution_count": null,
   "metadata": {},
   "outputs": [],
   "source": [
    "fig = plt.figure(figsize=(5, 5))\n",
    "fig.subplots_adjust(left=0, bottom=0, right=1, top=1, wspace=None, hspace=None)\n",
    "canvas = plt.imshow(video[0])\n",
    "plt.axis('off')\n",
    "display.display(display.HTML(FuncAnimation(fig, lambda i: canvas.set_data(video[i]), frames=len(video), interval=50).to_html5_video()))\n",
    "plt.close()"
   ]
  }
 ],
 "metadata": {
  "kernelspec": {
   "display_name": "base",
   "language": "python",
   "name": "python3"
  },
  "language_info": {
   "codemirror_mode": {
    "name": "ipython",
    "version": 3
   },
   "file_extension": ".py",
   "mimetype": "text/x-python",
   "name": "python",
   "nbconvert_exporter": "python",
   "pygments_lexer": "ipython3",
   "version": "3.10.6"
  },
  "orig_nbformat": 4,
  "vscode": {
   "interpreter": {
    "hash": "24a209cba9a9ab1c5651cc7484a1d32e0cd27295ead7dd257cd5c216422a5a45"
   }
  }
 },
 "nbformat": 4,
 "nbformat_minor": 2
}
